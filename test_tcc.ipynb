{
 "cells": [
  {
   "cell_type": "markdown",
   "metadata": {},
   "source": [
    "## This script is used to test tcc loss both in tensorflow version and pytorch version"
   ]
  },
  {
   "cell_type": "code",
   "execution_count": 1,
   "metadata": {},
   "outputs": [
    {
     "name": "stdout",
     "output_type": "stream",
     "text": [
      "405722.8\n"
     ]
    }
   ],
   "source": [
    "# First, prepare input to the loss\n",
    "import numpy as np\n",
    "np.random.seed(0)\n",
    "batch_size = 16\n",
    "emb_np = np.random.rand(16,198,256).astype(np.float32)\n",
    "print(np.sum(emb_np))"
   ]
  },
  {
   "cell_type": "markdown",
   "metadata": {},
   "source": [
    "- Tensorflow"
   ]
  },
  {
   "cell_type": "code",
   "execution_count": 2,
   "metadata": {},
   "outputs": [
    {
     "name": "stdout",
     "output_type": "stream",
     "text": [
      "tf.Tensor(5.2371726, shape=(), dtype=float32)\n"
     ]
    }
   ],
   "source": [
    "from tcc_tf.alignment import compute_alignment_loss\n",
    "import tensorflow.compat.v2 as tf\n",
    "\n",
    "embs = tf.convert_to_tensor(emb_np)\n",
    "loss = compute_alignment_loss(embs, batch_size, stochastic_matching=True)\n",
    "print(loss)"
   ]
  },
  {
   "cell_type": "markdown",
   "metadata": {},
   "source": [
    "- Pytorch"
   ]
  },
  {
   "cell_type": "code",
   "execution_count": 3,
   "metadata": {},
   "outputs": [
    {
     "name": "stdout",
     "output_type": "stream",
     "text": [
      "tensor(5.2306)\n"
     ]
    }
   ],
   "source": [
    "from tcc.alignment import compute_alignment_loss\n",
    "import torch\n",
    "\n",
    "embs = torch.from_numpy(emb_np)\n",
    "loss = compute_alignment_loss(embs, batch_size, stochastic_matching=True)\n",
    "print(loss)"
   ]
  },
  {
   "cell_type": "markdown",
   "metadata": {},
   "source": [
    "### Note: This repo only provide pytorch version of stochastic_alignment and classification_loss, due to time limit. The reason of results are slightly different is the randomness in the code,  1) gen_cycles(), the cycle generation are random; 2) _align_single_cycle(), the frame choosing is random. It has been verified, if these two parts are determined, the results are exactly the same."
   ]
  },
  {
   "cell_type": "code",
   "execution_count": null,
   "metadata": {},
   "outputs": [],
   "source": []
  }
 ],
 "metadata": {
  "kernelspec": {
   "display_name": "Python 3",
   "language": "python",
   "name": "python3"
  },
  "language_info": {
   "codemirror_mode": {
    "name": "ipython",
    "version": 3
   },
   "file_extension": ".py",
   "mimetype": "text/x-python",
   "name": "python",
   "nbconvert_exporter": "python",
   "pygments_lexer": "ipython3",
   "version": "3.8.5"
  }
 },
 "nbformat": 4,
 "nbformat_minor": 4
}
